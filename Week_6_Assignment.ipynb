{
 "cells": [
  {
   "cell_type": "markdown",
   "id": "20b0a5e8",
   "metadata": {},
   "source": [
    "### Week 6 Assignment"
   ]
  },
  {
   "cell_type": "markdown",
   "id": "1d3b8429",
   "metadata": {},
   "source": [
    "This serves as an introduction to this workbook."
   ]
  },
  {
   "cell_type": "markdown",
   "id": "069a9826",
   "metadata": {},
   "source": [
    "Data Science Languages\n",
    "\n",
    "Python <br>\n",
    "R <br>\n",
    "SQL <br>\n",
    "Scala <br>\n",
    "Java <br>\n",
    "C++ <br>\n",
    "Julia <br>\n",
    "JavaScript <br>\n",
    "PHP <br>\n",
    "Go <br>\n",
    "Ruby <br>\n",
    "Visual Basic"
   ]
  },
  {
   "cell_type": "markdown",
   "id": "906117b0",
   "metadata": {},
   "source": [
    "Data Science Libraries\n",
    "\n",
    "Python Libraries\n",
    "1. Scientific Computing: Pandas, NumPy\n",
    "2. Visualization: Matplotlib, Seaborn\n",
    "3. High-Level-Machine Learning and Deep Learning: Scikit-learn, Keras\n",
    "4. Deep Learning - TensorFlow, PyTorch\n",
    "5. Others: Spark, Vegas, BigDL, ggplot2"
   ]
  },
  {
   "cell_type": "markdown",
   "id": "72a52907",
   "metadata": {},
   "source": [
    "Data Science Tools\n",
    "1. MySQL, PostgreSQL, MongoDB, Apache CouchDB, Apache Cassandra, Hadoop File System, Ceph, and elastic search\n",
    "2. Apache AirFlow, KubeFlow, Apache Kafka, Apache Nifi, Apache SparkSQL, NodeRED\n",
    "3. Pixie Dust, Hue, Kibana, and Apache Superset\n",
    "4. Apache PredictionIO, Seldon, Kubernetes, Redhat, OpenShift, Mleap, TensorFlow service, TensorFlow lite, and TensorFlow dot JS\n",
    "5. ModelDB, Prometheus, IBM AI Fairness 360, IBM Adversarial Robustness 360 Toolbox, IBM AI Explainability 360"
   ]
  },
  {
   "cell_type": "markdown",
   "id": "358656a1",
   "metadata": {},
   "source": [
    "Here are some examples of an arithmetic expression: <br>\n",
    "3 + 5 <br>\n",
    "4 / 9 <br>\n",
    "72 * 7 <br>\n",
    "90 - 12 <br>"
   ]
  },
  {
   "cell_type": "code",
   "execution_count": 3,
   "id": "d101f529",
   "metadata": {},
   "outputs": [
    {
     "data": {
      "text/plain": [
       "99"
      ]
     },
     "execution_count": 3,
     "metadata": {},
     "output_type": "execute_result"
    }
   ],
   "source": [
    "a = 9*9\n",
    "b = 9+9\n",
    "c = a + b\n",
    "c"
   ]
  },
  {
   "cell_type": "code",
   "execution_count": 5,
   "id": "f274a194",
   "metadata": {},
   "outputs": [
    {
     "data": {
      "text/plain": [
       "4.266666666666667"
      ]
     },
     "execution_count": 5,
     "metadata": {},
     "output_type": "execute_result"
    }
   ],
   "source": [
    "m = 256\n",
    "h = 256/60\n",
    "h"
   ]
  },
  {
   "cell_type": "markdown",
   "id": "fdf40421",
   "metadata": {},
   "source": [
    "Objectives\n",
    "- Finish all the exercises\n",
    "- Submit assignment\n",
    "- Peer-review assignments of others"
   ]
  },
  {
   "cell_type": "markdown",
   "id": "de8794cc",
   "metadata": {},
   "source": [
    "Author: Christian Jay C. Domingo"
   ]
  },
  {
   "cell_type": "code",
   "execution_count": null,
   "id": "93173474",
   "metadata": {},
   "outputs": [],
   "source": []
  }
 ],
 "metadata": {
  "kernelspec": {
   "display_name": "Python 3 (ipykernel)",
   "language": "python",
   "name": "python3"
  },
  "language_info": {
   "codemirror_mode": {
    "name": "ipython",
    "version": 3
   },
   "file_extension": ".py",
   "mimetype": "text/x-python",
   "name": "python",
   "nbconvert_exporter": "python",
   "pygments_lexer": "ipython3",
   "version": "3.10.4"
  }
 },
 "nbformat": 4,
 "nbformat_minor": 5
}
