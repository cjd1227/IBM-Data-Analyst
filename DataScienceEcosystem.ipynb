{
 "cells": [
  {
   "cell_type": "markdown",
   "id": "48037ec0",
   "metadata": {},
   "source": [
    "# Data Science Tools and Ecosystem"
   ]
  },
  {
   "cell_type": "markdown",
   "id": "1ae27564",
   "metadata": {},
   "source": [
    "In this notebook, Data Science Tools and Ecosystem are summarized."
   ]
  },
  {
   "cell_type": "markdown",
   "id": "f8e25d17",
   "metadata": {},
   "source": [
    "Some of the popular languages that Data Scientists use are:\n",
    "1. Python <br>\n",
    "2. R <br>\n",
    "3. SQL <br>\n",
    "4. Scala <br>\n",
    "5. Java <br>\n",
    "6. C++ <br>\n",
    "7. Julia <br>\n",
    "8. JavaScript <br>\n",
    "9. PHP <br>\n",
    "10. Go <br>\n",
    "11. Ruby <br>\n",
    "12. Visual Basic"
   ]
  },
  {
   "cell_type": "markdown",
   "id": "cc54e6c2",
   "metadata": {},
   "source": [
    "Some of the common libraries used by Data Scientists include:\n",
    "1. Scientific Computing: Pandas, NumPy\n",
    "2. Visualization: Matplotlib, Seaborn\n",
    "3. High-Level-Machine Learning and Deep Learning: Scikit-learn, Keras\n",
    "4. Deep Learning - TensorFlow, PyTorch\n",
    "5. Others: Spark, Vegas, BigDL, ggplot2"
   ]
  },
  {
   "cell_type": "markdown",
   "id": "5c791c97",
   "metadata": {},
   "source": [
    "| Data Science Tools |\n",
    "| ------------------ |\n",
    "| MySQL |\n",
    "| PostgreSQL | \n",
    "| MongoDB | \n",
    "| Apache CouchDB | "
   ]
  },
  {
   "cell_type": "markdown",
   "id": "3e9bdb18",
   "metadata": {},
   "source": [
    "### Below are a few examples of evaluating arithmetic expressions in Python:\n",
    "3 + 5 <br>\n",
    "4 / 9 <br>\n",
    "72 * 7 <br>\n",
    "90 - 12 <br>"
   ]
  },
  {
   "cell_type": "code",
   "execution_count": 7,
   "id": "1718f25e",
   "metadata": {},
   "outputs": [
    {
     "data": {
      "text/plain": [
       "17"
      ]
     },
     "execution_count": 7,
     "metadata": {},
     "output_type": "execute_result"
    }
   ],
   "source": [
    "#This is a simple arithmetic expression to multiply then add integers.\n",
    "(3*4)+5"
   ]
  },
  {
   "cell_type": "code",
   "execution_count": 8,
   "id": "f20f52a7",
   "metadata": {},
   "outputs": [
    {
     "data": {
      "text/plain": [
       "3.3333333333333335"
      ]
     },
     "execution_count": 8,
     "metadata": {},
     "output_type": "execute_result"
    }
   ],
   "source": [
    "#This will convert 200 minutes to hours by dividing by 60.\n",
    "200/60"
   ]
  },
  {
   "cell_type": "markdown",
   "id": "12e32d54",
   "metadata": {},
   "source": [
    "**Objectives**\n",
    "- List popular languages for Data Science\n",
    "- List common libraries for Data Science\n",
    "- Show a few examples of arithmetic expressions"
   ]
  },
  {
   "cell_type": "markdown",
   "id": "2e83afe4",
   "metadata": {},
   "source": [
    "## Author\n",
    "Christian Jay C. Domingo"
   ]
  },
  {
   "cell_type": "code",
   "execution_count": null,
   "id": "b50eb352",
   "metadata": {},
   "outputs": [],
   "source": []
  }
 ],
 "metadata": {
  "kernelspec": {
   "display_name": "Python 3 (ipykernel)",
   "language": "python",
   "name": "python3"
  },
  "language_info": {
   "codemirror_mode": {
    "name": "ipython",
    "version": 3
   },
   "file_extension": ".py",
   "mimetype": "text/x-python",
   "name": "python",
   "nbconvert_exporter": "python",
   "pygments_lexer": "ipython3",
   "version": "3.10.4"
  }
 },
 "nbformat": 4,
 "nbformat_minor": 5
}
